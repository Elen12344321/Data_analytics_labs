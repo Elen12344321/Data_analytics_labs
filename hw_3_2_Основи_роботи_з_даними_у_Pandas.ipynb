{
  "nbformat": 4,
  "nbformat_minor": 0,
  "metadata": {
    "colab": {
      "provenance": []
    },
    "kernelspec": {
      "name": "python3",
      "display_name": "Python 3"
    },
    "language_info": {
      "name": "python"
    }
  },
  "cells": [
    {
      "cell_type": "markdown",
      "source": [
        "# Домашнє завдання до теми \"Основи роботи з даними у Pandas\""
      ],
      "metadata": {
        "id": "olyuwbpjrmvn"
      }
    },
    {
      "cell_type": "markdown",
      "source": [
        "В цьому домашньому завданні продовжуємо працювати з набором даних `supermarket_sales.csv`."
      ],
      "metadata": {
        "id": "vP2PEJyq8Yrj"
      }
    },
    {
      "cell_type": "markdown",
      "source": [
        "0. Імпортуйте бібліотеку pandas та зчитайте дані у змінну `df` типу `pandas.DataFrame`."
      ],
      "metadata": {
        "id": "dh9lfpDb8gBL"
      }
    },
    {
      "cell_type": "code",
      "source": [
        "from google.colab import drive\n",
        "drive.mount('/content/drive')"
      ],
      "metadata": {
        "colab": {
          "base_uri": "https://localhost:8080/"
        },
        "id": "5_XVicaXG8rW",
        "outputId": "4598f058-1d8b-455b-b93f-3f99dfd8e4e5"
      },
      "execution_count": 1,
      "outputs": [
        {
          "output_type": "stream",
          "name": "stdout",
          "text": [
            "Mounted at /content/drive\n"
          ]
        }
      ]
    },
    {
      "cell_type": "code",
      "source": [
        "import pandas as pd"
      ],
      "metadata": {
        "id": "jQ9Gq_CjHJaQ"
      },
      "execution_count": 2,
      "outputs": []
    },
    {
      "cell_type": "code",
      "source": [
        "df = pd.read_csv('/content/drive/MyDrive/python_labs/data/supermarket_sales.csv')\n",
        "\n",
        "print(type(df))"
      ],
      "metadata": {
        "colab": {
          "base_uri": "https://localhost:8080/"
        },
        "id": "KyFaO8mxHWym",
        "outputId": "eb117d3e-1a27-43b7-b113-8b6a136923a2"
      },
      "execution_count": 3,
      "outputs": [
        {
          "output_type": "stream",
          "name": "stdout",
          "text": [
            "<class 'pandas.core.frame.DataFrame'>\n"
          ]
        }
      ]
    },
    {
      "cell_type": "markdown",
      "metadata": {
        "ExecuteTime": {
          "end_time": "2021-09-20T19:44:56.499824Z",
          "start_time": "2021-09-20T19:44:56.496923Z"
        },
        "id": "ca064875"
      },
      "source": [
        "1. За допомогою бібліотеки Pandas виведіть перші 4 і останні 4 записи у наборі даних (це дві окремі команди). Треба саме 4! Не 5."
      ]
    },
    {
      "cell_type": "code",
      "execution_count": 4,
      "metadata": {
        "ExecuteTime": {
          "end_time": "2021-12-08T18:46:42.601691Z",
          "start_time": "2021-12-08T18:46:42.570962Z"
        },
        "id": "d095f26b",
        "colab": {
          "base_uri": "https://localhost:8080/"
        },
        "outputId": "e59efbc4-8904-41fb-d1ee-fce856799fce"
      },
      "outputs": [
        {
          "output_type": "stream",
          "name": "stdout",
          "text": [
            "    Invoice ID Branch       City Customer type  Gender  \\\n",
            "0  750-67-8428      A     Yangon        Member  Female   \n",
            "1  226-31-3081      C  Naypyitaw        Normal  Female   \n",
            "2  631-41-3108      A     Yangon        Normal    Male   \n",
            "3  123-19-1176      A     Yangon        Member    Male   \n",
            "\n",
            "             Product line  Unit price  Quantity   Tax 5%     Total       Date  \\\n",
            "0       Health and beauty       74.69         7  26.1415  548.9715   1/5/2019   \n",
            "1  Electronic accessories       15.28         5   3.8200   80.2200   3/8/2019   \n",
            "2      Home and lifestyle       46.33         7  16.2155  340.5255   3/3/2019   \n",
            "3       Health and beauty       58.22         8  23.2880  489.0480  1/27/2019   \n",
            "\n",
            "    Time      Payment    cogs  gross margin percentage  gross income  Rating  \n",
            "0  13:08      Ewallet  522.83                 4.761905       26.1415     9.1  \n",
            "1  10:29         Cash   76.40                 4.761905        3.8200     9.6  \n",
            "2  13:23  Credit card  324.31                 4.761905       16.2155     7.4  \n",
            "3  20:33      Ewallet  465.76                 4.761905       23.2880     8.4  \n"
          ]
        }
      ],
      "source": [
        "print(df.head(4))"
      ]
    },
    {
      "cell_type": "code",
      "source": [
        "print(df.tail(4))"
      ],
      "metadata": {
        "colab": {
          "base_uri": "https://localhost:8080/"
        },
        "id": "6Wtfqld0H_nE",
        "outputId": "ff13f9b4-8b29-45a9-8e0a-d52f361acb4e"
      },
      "execution_count": 5,
      "outputs": [
        {
          "output_type": "stream",
          "name": "stdout",
          "text": [
            "      Invoice ID Branch      City Customer type  Gender         Product line  \\\n",
            "996  303-96-2227      B  Mandalay        Normal  Female   Home and lifestyle   \n",
            "997  727-02-1313      A    Yangon        Member    Male   Food and beverages   \n",
            "998  347-56-2442      A    Yangon        Normal    Male   Home and lifestyle   \n",
            "999  849-09-3807      A    Yangon        Member  Female  Fashion accessories   \n",
            "\n",
            "     Unit price  Quantity  Tax 5%     Total       Date   Time  Payment  \\\n",
            "996       97.38        10  48.690  1022.490   3/2/2019  17:16  Ewallet   \n",
            "997       31.84         1   1.592    33.432   2/9/2019  13:22     Cash   \n",
            "998       65.82         1   3.291    69.111  2/22/2019  15:33     Cash   \n",
            "999       88.34         7  30.919   649.299  2/18/2019  13:28     Cash   \n",
            "\n",
            "       cogs  gross margin percentage  gross income  Rating  \n",
            "996  973.80                 4.761905        48.690     4.4  \n",
            "997   31.84                 4.761905         1.592     7.7  \n",
            "998   65.82                 4.761905         3.291     4.1  \n",
            "999  618.38                 4.761905        30.919     6.6  \n"
          ]
        }
      ]
    },
    {
      "cell_type": "markdown",
      "metadata": {
        "ExecuteTime": {
          "end_time": "2022-11-01T16:50:46.961201Z",
          "start_time": "2022-11-01T16:50:46.955894Z"
        },
        "id": "3e4c4fb3"
      },
      "source": [
        "Очікуваний результат:"
      ]
    },
    {
      "cell_type": "markdown",
      "metadata": {
        "id": "f037ac2b"
      },
      "source": [
        "![](https://drive.google.com/uc?export=view&id=1F5XlzBOOTMsedpsYqz6NnXjIPTDe6jpx)"
      ]
    },
    {
      "cell_type": "markdown",
      "source": [
        "2. Виведіть рядки даних з індексами з 615 по 619 включно."
      ],
      "metadata": {
        "id": "167fuYhB_nCP"
      }
    },
    {
      "cell_type": "code",
      "source": [
        "print(df.iloc[615:620])"
      ],
      "metadata": {
        "id": "ytZryG8Z_1f_",
        "colab": {
          "base_uri": "https://localhost:8080/"
        },
        "outputId": "07499b06-b526-4f53-a9e2-3d21a5693557"
      },
      "execution_count": 6,
      "outputs": [
        {
          "output_type": "stream",
          "name": "stdout",
          "text": [
            "      Invoice ID Branch       City Customer type  Gender  \\\n",
            "615  509-29-3912      A     Yangon        Member  Female   \n",
            "616  327-40-9673      B   Mandalay        Member    Male   \n",
            "617  840-19-2096      C  Naypyitaw        Member    Male   \n",
            "618  828-46-6863      A     Yangon        Member    Male   \n",
            "619  641-96-3695      C  Naypyitaw        Member  Female   \n",
            "\n",
            "               Product line  Unit price  Quantity   Tax 5%     Total  \\\n",
            "615       Sports and travel       38.72         9  17.4240  365.9040   \n",
            "616       Sports and travel       72.60         6  21.7800  457.3800   \n",
            "617  Electronic accessories       87.91         5  21.9775  461.5275   \n",
            "618      Food and beverages       98.53         6  29.5590  620.7390   \n",
            "619     Fashion accessories       43.46         6  13.0380  273.7980   \n",
            "\n",
            "          Date   Time      Payment    cogs  gross margin percentage  \\\n",
            "615  3/20/2019  12:24      Ewallet  348.48                 4.761905   \n",
            "616  1/13/2019  19:51         Cash  435.60                 4.761905   \n",
            "617  3/14/2019  18:10      Ewallet  439.55                 4.761905   \n",
            "618  1/23/2019  11:22  Credit card  591.18                 4.761905   \n",
            "619   2/7/2019  17:55      Ewallet  260.76                 4.761905   \n",
            "\n",
            "     gross income  Rating  \n",
            "615       17.4240     4.2  \n",
            "616       21.7800     6.9  \n",
            "617       21.9775     4.4  \n",
            "618       29.5590     4.0  \n",
            "619       13.0380     8.5  \n"
          ]
        }
      ]
    },
    {
      "cell_type": "markdown",
      "source": [
        "Очікуваний результат:"
      ],
      "metadata": {
        "id": "uMLwIMBlhAcY"
      }
    },
    {
      "cell_type": "markdown",
      "source": [
        "![](https://drive.google.com/uc?export=view&id=1Otufe_TXRmjZxWigzBiVBLCAVUfEReXM)"
      ],
      "metadata": {
        "id": "yxrvqGnNhCsX"
      }
    },
    {
      "cell_type": "markdown",
      "metadata": {
        "id": "2d54e0e4"
      },
      "source": [
        "3. Виведіть назви колонок у наборі даних разом з їхніми типами. Це можна зробити кількома способами, важливо аби в результаті були назви колонок і відповідні їм типи."
      ]
    },
    {
      "cell_type": "code",
      "execution_count": 7,
      "metadata": {
        "ExecuteTime": {
          "end_time": "2021-12-08T18:46:42.609601Z",
          "start_time": "2021-12-08T18:46:42.604424Z"
        },
        "id": "513f5a99",
        "colab": {
          "base_uri": "https://localhost:8080/"
        },
        "outputId": "fda774a4-c584-4a7c-e0aa-9d5455590dd3"
      },
      "outputs": [
        {
          "output_type": "stream",
          "name": "stdout",
          "text": [
            "Invoice ID                  object\n",
            "Branch                      object\n",
            "City                        object\n",
            "Customer type               object\n",
            "Gender                      object\n",
            "Product line                object\n",
            "Unit price                 float64\n",
            "Quantity                     int64\n",
            "Tax 5%                     float64\n",
            "Total                      float64\n",
            "Date                        object\n",
            "Time                        object\n",
            "Payment                     object\n",
            "cogs                       float64\n",
            "gross margin percentage    float64\n",
            "gross income               float64\n",
            "Rating                     float64\n",
            "dtype: object\n"
          ]
        }
      ],
      "source": [
        "print(df.dtypes)"
      ]
    },
    {
      "cell_type": "markdown",
      "metadata": {
        "ExecuteTime": {
          "end_time": "2022-11-01T16:50:46.961201Z",
          "start_time": "2022-11-01T16:50:46.955894Z"
        },
        "id": "3c380f93"
      },
      "source": [
        "Очікуваний результат (один з можливих форматів):"
      ]
    },
    {
      "cell_type": "markdown",
      "metadata": {
        "id": "28f7beff"
      },
      "source": [
        "![](https://drive.google.com/uc?export=view&id=1ASh6-S-_f3X9fTQAPIvnHMFZamTBjNkL)"
      ]
    },
    {
      "cell_type": "markdown",
      "source": [
        "4. Користуючись методом `DataFrame.describe()` виявіть 1, 25, 50, 75 і 99 персентилі колонки `gross income`. Знайдіть, яке значення відповідає 75отму персентилю цієї колонки і що це означає? Як би Ви його пояснили простими словами колегам? Відповідь напишіть текстом в окремій клітинці типу Markdown."
      ],
      "metadata": {
        "id": "aX2LEmuG8xyA"
      }
    },
    {
      "cell_type": "code",
      "source": [
        "percentiles = [0.01, 0.25, 0.50, 0.75, 0.99]\n",
        "gross_income_percentiles = df['gross income'].describe(percentiles=percentiles)\n",
        "print(gross_income_percentiles)"
      ],
      "metadata": {
        "id": "Paso6rPV894s",
        "colab": {
          "base_uri": "https://localhost:8080/"
        },
        "outputId": "974ad5d0-140b-4284-fc82-803119d3ac41"
      },
      "execution_count": 8,
      "outputs": [
        {
          "output_type": "stream",
          "name": "stdout",
          "text": [
            "count    1000.000000\n",
            "mean       15.379369\n",
            "std        11.708825\n",
            "min         0.508500\n",
            "1%          0.913735\n",
            "25%         5.924875\n",
            "50%        12.088000\n",
            "75%        22.445250\n",
            "99%        45.250750\n",
            "max        49.650000\n",
            "Name: gross income, dtype: float64\n"
          ]
        }
      ]
    },
    {
      "cell_type": "code",
      "source": [
        "Пояснення:\n",
        "75-ий персентиль означає те, що 75% значень у відсортованому рядку даних менше (або дорівнюють) цьому значенню (22.44), а 25% значень у відсортованому рядку даних - більше.\n",
        "\n",
        "(75-ий персентиль для gross income дорівнює 22.44, а це означає, що 75% значень у наборі даних менше або дорівнюють 22.44 і лише 25% значень будуть більші).\n"
      ],
      "metadata": {
        "id": "KBaC3yjWSsfH"
      },
      "execution_count": null,
      "outputs": []
    },
    {
      "cell_type": "markdown",
      "source": [
        "Очікуваний результат:"
      ],
      "metadata": {
        "id": "HX-oXoo4jCuE"
      }
    },
    {
      "cell_type": "markdown",
      "source": [
        "![](https://drive.google.com/uc?export=view&id=1bDa1YFUWDsPm78Lnpy2geQND8M1HEQiT)"
      ],
      "metadata": {
        "id": "Qi9Qi8LhjFRw"
      }
    },
    {
      "cell_type": "markdown",
      "source": [
        "5. Виведіть кількість інвойсів за кожним унікальним містом в наборі даних.\n",
        "\n",
        "  Підказка: інвойс - це один рядок в цьому наборі даних, ми можемо цим скористатись аби швидко отримати відповідь."
      ],
      "metadata": {
        "id": "X2FWqJYr9Eul"
      }
    },
    {
      "cell_type": "code",
      "source": [
        "invoices_per_city = df['City'].value_counts()\n",
        "print(invoices_per_city)"
      ],
      "metadata": {
        "id": "StVtKfWY-13y",
        "colab": {
          "base_uri": "https://localhost:8080/"
        },
        "outputId": "6d9af390-7938-417a-a220-4a51905c384b"
      },
      "execution_count": 9,
      "outputs": [
        {
          "output_type": "stream",
          "name": "stdout",
          "text": [
            "Yangon       340\n",
            "Mandalay     332\n",
            "Naypyitaw    328\n",
            "Name: City, dtype: int64\n"
          ]
        }
      ]
    },
    {
      "cell_type": "markdown",
      "source": [
        "Очікуваний результат:"
      ],
      "metadata": {
        "id": "MxdJBddujhRx"
      }
    },
    {
      "cell_type": "markdown",
      "source": [
        "![](https://drive.google.com/uc?export=view&id=1G8c6M875NOW7oU3OtZegTOnyD2y8lhAV)"
      ],
      "metadata": {
        "id": "DGmeHKZYjoTp"
      }
    },
    {
      "cell_type": "markdown",
      "source": [
        "6. Виведіть, який відсоток інвойсів припадає на кожне унікальне місто."
      ],
      "metadata": {
        "id": "-k-yG_rR-3Og"
      }
    },
    {
      "cell_type": "code",
      "source": [
        "invoices_per_city = df['City'].value_counts()\n",
        "\n",
        "percent_invoices_per_city = (invoices_per_city / len(df))\n",
        "\n",
        "print(percent_invoices_per_city)\n"
      ],
      "metadata": {
        "id": "_PBLxP7B_LdF",
        "colab": {
          "base_uri": "https://localhost:8080/"
        },
        "outputId": "8df97963-3a50-401a-ceb4-dbf0bc0b7cf3"
      },
      "execution_count": 11,
      "outputs": [
        {
          "output_type": "stream",
          "name": "stdout",
          "text": [
            "Yangon       0.340\n",
            "Mandalay     0.332\n",
            "Naypyitaw    0.328\n",
            "Name: City, dtype: float64\n"
          ]
        }
      ]
    },
    {
      "cell_type": "markdown",
      "source": [
        "Очікуваний результат:"
      ],
      "metadata": {
        "id": "hk_BB1Uxj_G5"
      }
    },
    {
      "cell_type": "markdown",
      "source": [
        "![](https://drive.google.com/uc?export=view&id=1yZZpWhL2y8DX9rSRioYCRh1VbJgcf3fY)"
      ],
      "metadata": {
        "id": "vAQ3z60ukBVG"
      }
    },
    {
      "cell_type": "markdown",
      "source": [
        "7.1. Використовуючи фільтрацію даних, знайдіть середнє значення `gross income` для міст `Yangon` та `Mandalay`. В якому місті воно більше?\n",
        "\n",
        "7.2 Сформулюйте 3 гіпотези, чому в одному місті gross income вище, як можна дізнатись чи правдива ця гіпотеза з використанням даних (наявних і додаткових), та як висновки з цих гіпотез можна використати для прийняття рішень як підвищити прибуток в мережі супермаркетів. Відповідь напишіть текстом в окремій клітинці типу Markdown.\n",
        "\n",
        "Це завдання - на продуктове мислення. Якщо не знаєте, які гіпотези сформулювати - напишіть ті, які здаються вам зовсім примітивними. Важливо навчитись висловлювати свої гіпотези щодо даних, і з часом та досвідом вони будуть ставати щоразу глибше і точніше. Весь аналіз даних будується на тому, що ми перевіряємо певні гіпотези та робимо висновки і рекоемндації на основі своїх досліджень."
      ],
      "metadata": {
        "id": "RUkVnzp_B5uZ"
      }
    },
    {
      "cell_type": "code",
      "source": [
        "#7.1\n",
        "yangon_data = df[df['City'] == 'Yangon']\n",
        "mandalay_data = df[df['City'] == 'Mandalay']\n",
        "\n",
        "mean_gross_income_yangon = yangon_data['gross income'].mean()\n",
        "mean_gross_income_mandalay = mandalay_data['gross income'].mean()\n"
      ],
      "metadata": {
        "id": "8RwoGA7l_OhV"
      },
      "execution_count": 14,
      "outputs": []
    },
    {
      "cell_type": "code",
      "source": [
        "mean_gross_income_yangon, mean_gross_income_mandalay"
      ],
      "metadata": {
        "colab": {
          "base_uri": "https://localhost:8080/"
        },
        "id": "h0LKAyfjV7O3",
        "outputId": "f8af18b2-c298-4951-f30f-3dbfad159403"
      },
      "execution_count": 13,
      "outputs": [
        {
          "output_type": "execute_result",
          "data": {
            "text/plain": [
              "(14.874001470588235, 15.232024096385542)"
            ]
          },
          "metadata": {},
          "execution_count": 13
        }
      ]
    },
    {
      "cell_type": "markdown",
      "source": [
        "7.2 Чому у місті Mandalay вищий прибуток в мережі супермаркетів?\n",
        "\n",
        "Гіпотеза 1: У місті Mandalay більша мережа супермаркетів, та вони знаходяться в зручних локаціях для покупців.\n",
        "\n",
        "Гіпотеза 2: Мережа супермаркетів у місті Mandalay пропонує більше акцій та абонементів на товари або послуги, що призводить до вищого середнього чеку покупок у порівнянні з мережею у місті Yangon.\n",
        "\n",
        "Гіпотеза 3: Мешканці міста Mandalay мають кращі доходи, тому клієнти витрачають більше коштів у супермаркетах.\n",
        "\n",
        "Для перевірки цих гіпотез можна проаналізувати такі параметри у кожному місті:\n",
        "\n",
        "- середній чек та кількість покупок на одного клієнта\n",
        "- кількість покупок для кожного супермаркета залежно від години\n",
        "- асортимент товарів та послуг, які пропонуються у супермаркетах\n",
        "- рівень доходів громадян в кожному місті\n",
        "\n",
        "Як наслідок, можна визначити ті фактори, які найбільше впливають на вартість та кількість покупок, а потім покращити показники в кожному місті, залежно від їх особливостей.\n",
        "\n",
        "\n",
        "\n",
        "\n",
        "\n",
        "\n"
      ],
      "metadata": {
        "id": "ax23iIqeWPRQ"
      }
    },
    {
      "cell_type": "markdown",
      "source": [
        "Очікуваний результат:"
      ],
      "metadata": {
        "id": "iXq3ODp1khy1"
      }
    },
    {
      "cell_type": "markdown",
      "source": [
        "![](https://drive.google.com/uc?export=view&id=1JdXUmK46WcoXUJYP7NS2SJlr2XjBbpQ8)"
      ],
      "metadata": {
        "id": "4lcu3YwqkkF8"
      }
    },
    {
      "cell_type": "markdown",
      "source": [
        "8. Для продовження дослідження різниці у прибутках в магазинах давайте зʼясуємо, чи відрізняється маржа ('gross margin percentage') для різних інвойсів в магазині? Перевірте це програмно на даних виходячи з того функціоналу, який ми вже пройшли у лекціях.\n",
        "\n",
        "Дайте на основі отриманого результату відповідь: \"У всіх всіх інвойсах однакова маржа\" або \"Маржа відрізняється для різних інвойсів\"."
      ],
      "metadata": {
        "id": "wNMcnnPQOrwb"
      }
    },
    {
      "cell_type": "code",
      "source": [
        "unique_margin_per_invoice = df.groupby('Invoice ID')['gross margin percentage'].nunique()\n",
        "\n",
        "if unique_margin_per_invoice.max() == 1:\n",
        "    print(\"У всіх інвойсах однакова маржа\")\n",
        "else:\n",
        "    print(\"Маржа відрізняється для різних інвойсів\")\n"
      ],
      "metadata": {
        "id": "mTWYzSVaPNsb",
        "colab": {
          "base_uri": "https://localhost:8080/"
        },
        "outputId": "8fdb3b4a-2abc-4928-ec66-ce6373b72ff3"
      },
      "execution_count": 16,
      "outputs": [
        {
          "output_type": "stream",
          "name": "stdout",
          "text": [
            "У всіх інвойсах однакова маржа\n"
          ]
        }
      ]
    },
    {
      "cell_type": "markdown",
      "source": [
        "Очікуваний результат: відповідь щодо маржі в усіх інвойсах на основі отриманих результатів"
      ],
      "metadata": {
        "id": "YXlTdvOtnYPr"
      }
    },
    {
      "cell_type": "markdown",
      "source": [
        "9. Врахуовуючи висновок в попередньому завданні, дослідимо як продаються в цих містах різні категорії товарів. Виведіть відсотковий розпоіділ кількості інвойсів по категоріям товарів `Product line` в містах `Yangon` та `Mandalay`."
      ],
      "metadata": {
        "id": "NF3oAHQOOSN5"
      }
    },
    {
      "cell_type": "code",
      "source": [
        "yangon_data = df[df['City'] == 'Yangon']\n",
        "\n",
        "mandalay_data = df[df['City'] == 'Mandalay']\n",
        "\n",
        "yangon_product_line_percentage = yangon_data['Product line'].value_counts(normalize=True)\n",
        "print(\"Відсотковий розподіл кількості інвойсів по категоріям товарів в місті Yangon:\")\n",
        "print(yangon_product_line_percentage, '\\n')\n",
        "#print()\n",
        "\n",
        "mandalay_product_line_percentage = mandalay_data['Product line'].value_counts(normalize=True)\n",
        "print(\"Відсотковий розподіл кількості інвойсів по категоріям товарів в місті Mandalay:\")\n",
        "print(mandalay_product_line_percentage)\n"
      ],
      "metadata": {
        "id": "nUgdZmbzQDo4",
        "colab": {
          "base_uri": "https://localhost:8080/"
        },
        "outputId": "8c06767a-6599-4570-e90d-7013a46803e3"
      },
      "execution_count": 25,
      "outputs": [
        {
          "output_type": "stream",
          "name": "stdout",
          "text": [
            "Відсотковий розподіл кількості інвойсів по категоріям товарів в місті Yangon:\n",
            "Home and lifestyle        0.191176\n",
            "Electronic accessories    0.176471\n",
            "Sports and travel         0.173529\n",
            "Food and beverages        0.170588\n",
            "Fashion accessories       0.150000\n",
            "Health and beauty         0.138235\n",
            "Name: Product line, dtype: float64 \n",
            "\n",
            "Відсотковий розподіл кількості інвойсів по категоріям товарів в місті Mandalay:\n",
            "Fashion accessories       0.186747\n",
            "Sports and travel         0.186747\n",
            "Electronic accessories    0.165663\n",
            "Health and beauty         0.159639\n",
            "Food and beverages        0.150602\n",
            "Home and lifestyle        0.150602\n",
            "Name: Product line, dtype: float64\n"
          ]
        }
      ]
    },
    {
      "cell_type": "markdown",
      "source": [
        "Очікуваний результат для кожного з міст:"
      ],
      "metadata": {
        "id": "vFhFKSl7meGY"
      }
    },
    {
      "cell_type": "markdown",
      "source": [
        "![](https://drive.google.com/uc?export=view&id=1IbG58YK5KVqC-wCnllF1btgEgfWTbi_O)"
      ],
      "metadata": {
        "id": "pzpOAqu1miuo"
      }
    },
    {
      "cell_type": "markdown",
      "source": [
        "![](https://drive.google.com/uc?export=view&id=1aKOkLmlMq1sOh4GbwyaQyjfhNJzdU4Yh)"
      ],
      "metadata": {
        "id": "imwzMiV4mrXn"
      }
    }
  ]
}