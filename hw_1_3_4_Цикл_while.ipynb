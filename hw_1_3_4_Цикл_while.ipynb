{
  "nbformat": 4,
  "nbformat_minor": 0,
  "metadata": {
    "colab": {
      "provenance": []
    },
    "kernelspec": {
      "name": "python3",
      "display_name": "Python 3"
    },
    "language_info": {
      "name": "python"
    }
  },
  "cells": [
    {
      "cell_type": "markdown",
      "source": [
        "#Домашнє завдання до теми \"Цикл while\""
      ],
      "metadata": {
        "id": "15XCoYr0awZ6"
      }
    },
    {
      "cell_type": "markdown",
      "source": [
        "1. **Лічильник до заданого числа.**\n",
        "   Завдання:\n",
        "     - Створіть цикл `while`, щоб він лічив від 1 до заданого числа в змінній `limit`.\n",
        "     - Виведіть кожне число, яке проходить лічильник, на екран.\n",
        "     - В кінці виведіть повідомлення \"Кінець розрахунку!\".\n"
      ],
      "metadata": {
        "id": "xgCDxF5YhQSa"
      }
    },
    {
      "cell_type": "code",
      "source": [
        "limit = 9  # Задане число"
      ],
      "metadata": {
        "id": "wwSqYFCmiJTt"
      },
      "execution_count": 1,
      "outputs": []
    },
    {
      "cell_type": "code",
      "source": [
        "counter = 1\n",
        "while counter <= limit:\n",
        "    print(counter)\n",
        "    counter += 1\n",
        "\n",
        "print(\"Кінець розрахунку!\")"
      ],
      "metadata": {
        "id": "4IcibOYqj3pn",
        "colab": {
          "base_uri": "https://localhost:8080/"
        },
        "outputId": "e70c3bd4-ade7-44eb-bf7c-33f9a7a01fd6"
      },
      "execution_count": 2,
      "outputs": [
        {
          "output_type": "stream",
          "name": "stdout",
          "text": [
            "1\n",
            "2\n",
            "3\n",
            "4\n",
            "5\n",
            "6\n",
            "7\n",
            "8\n",
            "9\n",
            "Кінець розрахунку!\n"
          ]
        }
      ]
    },
    {
      "cell_type": "markdown",
      "source": [
        "2. **Пошук першого парного числа.** Завдання:\n",
        "     - Створіть цикл `while`, щоб знайти перше парне число після заданого числа `start`.\n",
        "     - Знайдіть та виведіть перше парне число.\n"
      ],
      "metadata": {
        "id": "DlqunQnphZ9s"
      }
    },
    {
      "cell_type": "code",
      "source": [
        "start = 7  # Задане число"
      ],
      "metadata": {
        "id": "3CC3-gNJiW6X"
      },
      "execution_count": 4,
      "outputs": []
    },
    {
      "cell_type": "code",
      "source": [
        "while True:\n",
        "    start += 1\n",
        "    if start % 2 == 0:\n",
        "        print(\"Перше парне число після\", start - 1, \":\", start)\n",
        "        break"
      ],
      "metadata": {
        "id": "5M8Ly9_Lj4-t",
        "colab": {
          "base_uri": "https://localhost:8080/"
        },
        "outputId": "b6ca2521-d10c-4e14-ad7c-079f78531a6d"
      },
      "execution_count": 5,
      "outputs": [
        {
          "output_type": "stream",
          "name": "stdout",
          "text": [
            "Перше парне число після 7 : 8\n"
          ]
        }
      ]
    },
    {
      "cell_type": "markdown",
      "source": [
        "\n",
        "3. **Обчислення факторіалу.**   \n",
        "  Факторіал числа - це добуток всіх натуральних чисел від 1 до цього числа включно. Наприклад, факторіал числа 5 (позначається як 5!) дорівнює `1 * 2 * 3 * 4 * 5 = 120`.\n",
        "\n",
        "  Завдання:  \n",
        "      - Обчисліть факторіал заданого числа, використовуючи цикл `while`.  \n",
        "      - Задайте деяке число для обчислення факторіалу у змінній `num`.  \n",
        "      - Виведіть обчислений факторіал на екран.  \n"
      ],
      "metadata": {
        "id": "OlhKezZYiQJ2"
      }
    },
    {
      "cell_type": "code",
      "source": [
        "num_start = 35\n",
        "num = num_start\n",
        "factorial = 1\n",
        "\n",
        "while num > 1:\n",
        "    factorial *= num\n",
        "    num -= 1\n",
        "\n",
        "print(\"Факторіал числа\", num_start, \"дорівнює\", factorial)"
      ],
      "metadata": {
        "id": "s0JKm0Wtj5s9",
        "colab": {
          "base_uri": "https://localhost:8080/"
        },
        "outputId": "73cd112a-ae2c-4993-9bab-b750fca8b5b4"
      },
      "execution_count": 12,
      "outputs": [
        {
          "output_type": "stream",
          "name": "stdout",
          "text": [
            "Факторіал числа 35 дорівнює 10333147966386144929666651337523200000000\n"
          ]
        }
      ]
    }
  ]
}